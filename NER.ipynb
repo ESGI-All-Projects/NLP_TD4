{
 "cells": [
  {
   "cell_type": "code",
   "execution_count": 1,
   "outputs": [],
   "source": [
    "import pandas as pd\n",
    "from datasets import Dataset\n",
    "from transformers import DistilBertTokenizerFast\n",
    "\n",
    "# Charger les données depuis le fichier CSV\n",
    "df = pd.read_csv(\"data/train_2.csv\")\n",
    "\n",
    "# Mappage des labels textuels en entiers\n",
    "label_map = {\"person\": 1, \"content\": 2}\n",
    "\n",
    "def map_labels(label_list):\n",
    "    return [label_map.get(label, 0) for label in label_list]\n",
    "\n",
    "# Appliquer le mappage des labels\n",
    "df['words'] = df['words'].apply(lambda x: eval(x) if isinstance(x, str) else x)\n",
    "df['labels'] = df['labels'].apply(lambda x: map_labels(eval(x)) if isinstance(x, str) else x)\n",
    "\n",
    "# Créer un Dataset Hugging Face\n",
    "data = Dataset.from_pandas(df)"
   ],
   "metadata": {
    "collapsed": false,
    "ExecuteTime": {
     "end_time": "2024-01-11T13:49:35.656000500Z",
     "start_time": "2024-01-11T13:49:33.901440700Z"
    }
   },
   "id": "69d49b2ba59e9cff"
  },
  {
   "cell_type": "markdown",
   "source": [
    "# Prétraitement des données"
   ],
   "metadata": {
    "collapsed": false
   },
   "id": "b04e3bf124a84c03"
  },
  {
   "cell_type": "code",
   "execution_count": 2,
   "outputs": [
    {
     "data": {
      "text/plain": "Map:   0%|          | 0/2931 [00:00<?, ? examples/s]",
      "application/vnd.jupyter.widget-view+json": {
       "version_major": 2,
       "version_minor": 0,
       "model_id": "fa09882d22a7477fbbfa3fb4fdd7a24c"
      }
     },
     "metadata": {},
     "output_type": "display_data"
    }
   ],
   "source": [
    "# Initialiser le tokeniseur\n",
    "tokenizer = DistilBertTokenizerFast.from_pretrained('distilbert-base-uncased')\n",
    "\n",
    "# Fonction de tokenisation et d'alignement des labels\n",
    "def tokenize_and_align_labels(examples):\n",
    "    tokenized_inputs = tokenizer(examples[\"words\"], truncation=True, is_split_into_words=True)\n",
    "    labels = []\n",
    "    for i, label in enumerate(examples[\"labels\"]):\n",
    "        word_ids = tokenized_inputs.word_ids(batch_index=i)\n",
    "        label_ids = [-100 if word_id is None else label[word_id] for word_id in word_ids]\n",
    "        labels.append(label_ids)\n",
    "    tokenized_inputs[\"labels\"] = labels\n",
    "    return tokenized_inputs\n",
    "\n",
    "# Appliquer la fonction de tokenisation aux données\n",
    "tokenized_data = data.map(tokenize_and_align_labels, batched=True)"
   ],
   "metadata": {
    "collapsed": false,
    "ExecuteTime": {
     "end_time": "2024-01-11T13:49:36.473796900Z",
     "start_time": "2024-01-11T13:49:35.656000500Z"
    }
   },
   "id": "84cd9cf03c91c14e"
  },
  {
   "cell_type": "code",
   "execution_count": 3,
   "outputs": [
    {
     "name": "stdout",
     "output_type": "stream",
     "text": [
      "Exemple 1\n",
      "Phrase originale: ['Send', 'a', 'message', 'to', 'Mom', 'telling', 'her', \"I'll\", 'be', 'home', 'late']\n",
      "Tokens: ['[CLS]', 'send', 'a', 'message', 'to', 'mom', 'telling', 'her', 'i', \"'\", 'll', 'be', 'home', 'late', '[SEP]']\n",
      "Labels: [-100, 0, 0, 0, 0, 1, 0, 0, 2, 2, 2, 2, 2, 2, -100]\n",
      "\n",
      "\n",
      "Exemple 2\n",
      "Phrase originale: ['Write', 'to', 'the', 'professor', 'asking', 'about', 'the', 'exam', 'format']\n",
      "Tokens: ['[CLS]', 'write', 'to', 'the', 'professor', 'asking', 'about', 'the', 'exam', 'format', '[SEP]']\n",
      "Labels: [-100, 0, 0, 1, 1, 0, 2, 2, 2, 2, -100]\n",
      "\n",
      "\n",
      "Exemple 3\n",
      "Phrase originale: ['Text', 'John', 'asking', 'if', \"he's\", 'available', 'for', 'a', 'meeting', 'tomorrow']\n",
      "Tokens: ['[CLS]', 'text', 'john', 'asking', 'if', 'he', \"'\", 's', 'available', 'for', 'a', 'meeting', 'tomorrow', '[SEP]']\n",
      "Labels: [-100, 0, 1, 0, 2, 2, 2, 2, 2, 2, 2, 2, 2, -100]\n",
      "\n",
      "\n",
      "Exemple 4\n",
      "Phrase originale: ['Message', 'the', 'customer', 'support', 'about', 'my', 'order', 'status']\n",
      "Tokens: ['[CLS]', 'message', 'the', 'customer', 'support', 'about', 'my', 'order', 'status', '[SEP]']\n",
      "Labels: [-100, 0, 0, 1, 1, 2, 2, 2, 2, -100]\n",
      "\n",
      "\n",
      "Exemple 5\n",
      "Phrase originale: ['Ask', 'the', 'team', 'lead', 'for', 'feedback', 'on', 'the', 'project', 'presentation']\n",
      "Tokens: ['[CLS]', 'ask', 'the', 'team', 'lead', 'for', 'feedback', 'on', 'the', 'project', 'presentation', '[SEP]']\n",
      "Labels: [-100, 0, 1, 1, 1, 2, 2, 2, 2, 2, 2, -100]\n"
     ]
    }
   ],
   "source": [
    "# Afficher un échantillon des données tokenisées\n",
    "for i in range(5):  # Sélectionner les 5 premiers échantillons\n",
    "    print(f\"Exemple {i+1}\")\n",
    "    print(\"Phrase originale:\", df.iloc[i]['words'])\n",
    "    print(\"Tokens:\", tokenizer.convert_ids_to_tokens(tokenized_data[i][\"input_ids\"]))\n",
    "    print(\"Labels:\", tokenized_data[i][\"labels\"])\n",
    "    print(\"\\n\")\n",
    "\n"
   ],
   "metadata": {
    "collapsed": false,
    "ExecuteTime": {
     "end_time": "2024-01-11T13:49:36.482584300Z",
     "start_time": "2024-01-11T13:49:36.465819Z"
    }
   },
   "id": "5755aef56e7c1b3"
  },
  {
   "cell_type": "markdown",
   "source": [
    "# Model"
   ],
   "metadata": {
    "collapsed": false
   },
   "id": "f862039d97ff78a"
  },
  {
   "cell_type": "code",
   "execution_count": 4,
   "outputs": [
    {
     "name": "stdout",
     "output_type": "stream",
     "text": [
      "WARNING:tensorflow:From D:\\Documents\\programme\\anaconda3\\envs\\NLP_TD4\\lib\\site-packages\\keras\\src\\losses.py:2976: The name tf.losses.sparse_softmax_cross_entropy is deprecated. Please use tf.compat.v1.losses.sparse_softmax_cross_entropy instead.\n",
      "WARNING:tensorflow:From D:\\Documents\\programme\\anaconda3\\envs\\NLP_TD4\\lib\\site-packages\\keras\\src\\backend.py:873: The name tf.get_default_graph is deprecated. Please use tf.compat.v1.get_default_graph instead.\n"
     ]
    },
    {
     "name": "stderr",
     "output_type": "stream",
     "text": [
      "Some weights of the PyTorch model were not used when initializing the TF 2.0 model TFDistilBertForTokenClassification: ['vocab_layer_norm.weight', 'vocab_transform.bias', 'vocab_transform.weight', 'vocab_layer_norm.bias', 'vocab_projector.bias']\n",
      "- This IS expected if you are initializing TFDistilBertForTokenClassification from a PyTorch model trained on another task or with another architecture (e.g. initializing a TFBertForSequenceClassification model from a BertForPreTraining model).\n",
      "- This IS NOT expected if you are initializing TFDistilBertForTokenClassification from a PyTorch model that you expect to be exactly identical (e.g. initializing a TFBertForSequenceClassification model from a BertForSequenceClassification model).\n",
      "Some weights or buffers of the TF 2.0 model TFDistilBertForTokenClassification were not initialized from the PyTorch model and are newly initialized: ['classifier.weight', 'classifier.bias']\n",
      "You should probably TRAIN this model on a down-stream task to be able to use it for predictions and inference.\n"
     ]
    }
   ],
   "source": [
    "import tensorflow as tf\n",
    "from transformers import TFDistilBertForTokenClassification\n",
    "\n",
    "# Charger le modèle pré-entraîné\n",
    "model = TFDistilBertForTokenClassification.from_pretrained(\n",
    "    'distilbert-base-uncased', \n",
    "    num_labels=len(label_map) + 1  # +1 pour le label 0\n",
    ")\n"
   ],
   "metadata": {
    "collapsed": false,
    "ExecuteTime": {
     "end_time": "2024-01-11T13:49:44.538013Z",
     "start_time": "2024-01-11T13:49:36.482584300Z"
    }
   },
   "id": "96932581faad4a85"
  },
  {
   "cell_type": "code",
   "execution_count": 5,
   "outputs": [],
   "source": [
    "from transformers import DataCollatorForTokenClassification\n",
    "\n",
    "# taille maximale des séquences\n",
    "max_length = 128\n",
    "\n",
    "# fonction pour aligner et tronquer les séquences\n",
    "def align_and_truncate(data):\n",
    "    input_ids = tf.keras.preprocessing.sequence.pad_sequences(\n",
    "        data['input_ids'], maxlen=max_length, dtype='long', padding='post', truncating='post'\n",
    "    )\n",
    "    attention_mask = tf.keras.preprocessing.sequence.pad_sequences(\n",
    "        data['attention_mask'], maxlen=max_length, dtype='long', padding='post', truncating='post'\n",
    "    )\n",
    "    labels = tf.keras.preprocessing.sequence.pad_sequences(\n",
    "        data['labels'], maxlen=max_length, dtype='long', padding='post', truncating='post', value=-100\n",
    "    )\n",
    "    return {'input_ids': input_ids, 'attention_mask': attention_mask}, labels\n",
    "\n",
    "\n",
    "train_features, train_labels = align_and_truncate(tokenized_data)\n",
    "\n",
    "train_dataset = tf.data.Dataset.from_tensor_slices((train_features, train_labels)).shuffle(10000).batch(16)\n"
   ],
   "metadata": {
    "collapsed": false,
    "ExecuteTime": {
     "end_time": "2024-01-11T13:49:44.686282500Z",
     "start_time": "2024-01-11T13:49:44.549639700Z"
    }
   },
   "id": "4d39c4de4a6433b6"
  },
  {
   "cell_type": "code",
   "execution_count": 6,
   "outputs": [
    {
     "name": "stdout",
     "output_type": "stream",
     "text": [
      "WARNING:tensorflow:From D:\\Documents\\programme\\anaconda3\\envs\\NLP_TD4\\lib\\site-packages\\keras\\src\\utils\\tf_utils.py:492: The name tf.ragged.RaggedTensorValue is deprecated. Please use tf.compat.v1.ragged.RaggedTensorValue instead.\n",
      "184/184 [==============================] - 430s 2s/step - loss: 0.1396\n"
     ]
    }
   ],
   "source": [
    "def custom_loss(y_true, y_pred):\n",
    "    # Trouver les indices où les labels ne sont pas -100\n",
    "    active_loss = tf.reshape(y_true, (-1,)) != -100\n",
    "\n",
    "    # Sélectionner les prédictions et les labels réels pour ces indices\n",
    "    reduced_logits = tf.boolean_mask(tf.reshape(y_pred, (-1, tf.shape(y_pred)[2])), active_loss)\n",
    "    reduced_labels = tf.boolean_mask(tf.reshape(y_true, (-1,)), active_loss)\n",
    "\n",
    "    loss = tf.keras.losses.sparse_categorical_crossentropy(reduced_labels, reduced_logits, from_logits=True)\n",
    "    return loss\n",
    "\n",
    "\n",
    "optimizer = tf.keras.optimizers.Adam(learning_rate=5e-5)\n",
    "\n",
    "model.compile(optimizer=optimizer, loss=custom_loss)\n",
    "\n",
    "history = model.fit(train_dataset, epochs=1)\n"
   ],
   "metadata": {
    "collapsed": false,
    "ExecuteTime": {
     "end_time": "2024-01-11T13:56:54.838864300Z",
     "start_time": "2024-01-11T13:49:44.692150500Z"
    }
   },
   "id": "c98671d3fc092edf"
  },
  {
   "cell_type": "code",
   "execution_count": 7,
   "outputs": [
    {
     "data": {
      "text/plain": "<Figure size 640x480 with 1 Axes>",
      "image/png": "[encoded data removed]"
     },
     "metadata": {},
     "output_type": "display_data"
    }
   ],
   "source": [
    "import matplotlib.pyplot as plt\n",
    "\n",
    "# Tracer l'historique de la perte\n",
    "plt.plot(history.history['loss'], label='Perte d\\'entraînement')\n",
    "plt.title('Évolution de la Perte pendant l\\'Entraînement')\n",
    "plt.ylabel('Perte')\n",
    "plt.xlabel('Époque')\n",
    "plt.legend()\n",
    "plt.show()\n"
   ],
   "metadata": {
    "collapsed": false,
    "ExecuteTime": {
     "end_time": "2024-01-11T13:56:55.451421800Z",
     "start_time": "2024-01-11T13:56:54.822595Z"
    }
   },
   "id": "d051aa6e78553e1a"
  },
  {
   "cell_type": "markdown",
   "source": [
    "# EVALUATE\n"
   ],
   "metadata": {
    "collapsed": false
   },
   "id": "afe12d0ee7e6728c"
  },
  {
   "cell_type": "code",
   "execution_count": 8,
   "outputs": [
    {
     "data": {
      "text/plain": "Map:   0%|          | 0/1991 [00:00<?, ? examples/s]",
      "application/vnd.jupyter.widget-view+json": {
       "version_major": 2,
       "version_minor": 0,
       "model_id": "61f195e5276d4831ab0cc61efd7fbbe0"
      }
     },
     "metadata": {},
     "output_type": "display_data"
    },
    {
     "name": "stdout",
     "output_type": "stream",
     "text": [
      "125/125 [==============================] - 89s 700ms/step - loss: 0.0532\n",
      "Perte sur l'ensemble de test: 0.05322042852640152\n"
     ]
    }
   ],
   "source": [
    "test_df = pd.read_csv(\"data/test.csv\")\n",
    "\n",
    "# Appliquer le mappage des labels et la tokenisation\n",
    "test_df['words'] = test_df['words'].apply(lambda x: eval(x) if isinstance(x, str) else x)\n",
    "test_df['labels'] = test_df['labels'].apply(lambda x: [label_map.get(label, 0) for label in eval(x)] if isinstance(x, str) else x)\n",
    "\n",
    "test_data = Dataset.from_pandas(test_df)\n",
    "\n",
    "# Appliquer la tokenisation et l'alignement des labels\n",
    "tokenized_test_data = test_data.map(tokenize_and_align_labels, batched=True)\n",
    "\n",
    "test_features, test_labels = align_and_truncate(tokenized_test_data)\n",
    "test_dataset = tf.data.Dataset.from_tensor_slices((test_features, test_labels)).batch(16)\n",
    "\n",
    "eval_loss = model.evaluate(test_dataset)\n",
    "print(f\"Perte sur l'ensemble de test: {eval_loss}\")\n"
   ],
   "metadata": {
    "collapsed": false,
    "ExecuteTime": {
     "end_time": "2024-01-11T13:58:24.922452500Z",
     "start_time": "2024-01-11T13:56:55.457977800Z"
    }
   },
   "id": "514919d99bc8ee3"
  },
  {
   "cell_type": "code",
   "execution_count": 10,
   "outputs": [
    {
     "name": "stdout",
     "output_type": "stream",
     "text": [
      "1/1 [==============================] - 1s 930ms/step\n",
      "1/1 [==============================] - 1s 607ms/step\n",
      "1/1 [==============================] - 1s 548ms/step\n",
      "1/1 [==============================] - 1s 641ms/step\n",
      "1/1 [==============================] - 1s 633ms/step\n",
      "1/1 [==============================] - 1s 567ms/step\n",
      "1/1 [==============================] - 1s 637ms/step\n",
      "1/1 [==============================] - 1s 775ms/step\n",
      "1/1 [==============================] - 1s 563ms/step\n",
      "1/1 [==============================] - 1s 638ms/step\n",
      "1/1 [==============================] - 1s 706ms/step\n",
      "1/1 [==============================] - 1s 651ms/step\n",
      "1/1 [==============================] - 1s 587ms/step\n",
      "1/1 [==============================] - 1s 671ms/step\n",
      "1/1 [==============================] - 1s 639ms/step\n",
      "1/1 [==============================] - 1s 616ms/step\n",
      "1/1 [==============================] - 1s 703ms/step\n",
      "1/1 [==============================] - 1s 675ms/step\n",
      "1/1 [==============================] - 1s 712ms/step\n",
      "1/1 [==============================] - 1s 646ms/step\n",
      "1/1 [==============================] - 1s 669ms/step\n",
      "1/1 [==============================] - 1s 642ms/step\n",
      "1/1 [==============================] - 1s 668ms/step\n",
      "1/1 [==============================] - 1s 717ms/step\n",
      "1/1 [==============================] - 1s 500ms/step\n",
      "1/1 [==============================] - 1s 598ms/step\n",
      "1/1 [==============================] - 1s 681ms/step\n",
      "1/1 [==============================] - 1s 618ms/step\n",
      "1/1 [==============================] - 1s 776ms/step\n",
      "1/1 [==============================] - 1s 795ms/step\n",
      "1/1 [==============================] - 1s 756ms/step\n",
      "1/1 [==============================] - 1s 776ms/step\n",
      "1/1 [==============================] - 1s 775ms/step\n",
      "1/1 [==============================] - 1s 507ms/step\n",
      "1/1 [==============================] - 1s 676ms/step\n",
      "1/1 [==============================] - 1s 578ms/step\n",
      "1/1 [==============================] - 1s 673ms/step\n",
      "1/1 [==============================] - 1s 729ms/step\n",
      "1/1 [==============================] - 1s 764ms/step\n",
      "1/1 [==============================] - 1s 772ms/step\n",
      "1/1 [==============================] - 1s 847ms/step\n",
      "1/1 [==============================] - 1s 783ms/step\n",
      "1/1 [==============================] - 1s 752ms/step\n",
      "1/1 [==============================] - 1s 778ms/step\n",
      "1/1 [==============================] - 1s 735ms/step\n",
      "1/1 [==============================] - 1s 756ms/step\n",
      "1/1 [==============================] - 1s 796ms/step\n",
      "1/1 [==============================] - 1s 748ms/step\n",
      "1/1 [==============================] - 1s 706ms/step\n",
      "1/1 [==============================] - 1s 729ms/step\n",
      "1/1 [==============================] - 1s 693ms/step\n",
      "1/1 [==============================] - 1s 763ms/step\n",
      "1/1 [==============================] - 1s 776ms/step\n",
      "1/1 [==============================] - 1s 797ms/step\n",
      "1/1 [==============================] - 1s 713ms/step\n",
      "1/1 [==============================] - 1s 697ms/step\n",
      "1/1 [==============================] - 1s 668ms/step\n",
      "1/1 [==============================] - 1s 729ms/step\n",
      "1/1 [==============================] - 1s 797ms/step\n",
      "1/1 [==============================] - 1s 756ms/step\n",
      "1/1 [==============================] - 1s 791ms/step\n",
      "1/1 [==============================] - 1s 815ms/step\n",
      "1/1 [==============================] - 1s 811ms/step\n",
      "1/1 [==============================] - 1s 754ms/step\n",
      "1/1 [==============================] - 1s 789ms/step\n",
      "1/1 [==============================] - 1s 734ms/step\n",
      "1/1 [==============================] - 1s 818ms/step\n",
      "1/1 [==============================] - 1s 664ms/step\n",
      "1/1 [==============================] - 1s 719ms/step\n",
      "1/1 [==============================] - 1s 570ms/step\n",
      "1/1 [==============================] - 1s 759ms/step\n",
      "1/1 [==============================] - 1s 753ms/step\n",
      "1/1 [==============================] - 1s 734ms/step\n",
      "1/1 [==============================] - 1s 773ms/step\n",
      "1/1 [==============================] - 1s 788ms/step\n",
      "1/1 [==============================] - 1s 840ms/step\n",
      "1/1 [==============================] - 1s 783ms/step\n",
      "1/1 [==============================] - 1s 707ms/step\n",
      "1/1 [==============================] - 1s 800ms/step\n",
      "1/1 [==============================] - 1s 748ms/step\n",
      "1/1 [==============================] - 1s 758ms/step\n",
      "1/1 [==============================] - 1s 807ms/step\n",
      "1/1 [==============================] - 1s 760ms/step\n",
      "1/1 [==============================] - 1s 814ms/step\n",
      "1/1 [==============================] - 1s 789ms/step\n",
      "1/1 [==============================] - 1s 799ms/step\n",
      "1/1 [==============================] - 1s 777ms/step\n",
      "1/1 [==============================] - 1s 773ms/step\n",
      "1/1 [==============================] - 1s 778ms/step\n",
      "1/1 [==============================] - 1s 759ms/step\n",
      "1/1 [==============================] - 1s 751ms/step\n",
      "1/1 [==============================] - 1s 813ms/step\n",
      "1/1 [==============================] - 1s 810ms/step\n",
      "1/1 [==============================] - 1s 769ms/step\n",
      "1/1 [==============================] - 1s 769ms/step\n",
      "1/1 [==============================] - 1s 759ms/step\n",
      "1/1 [==============================] - 1s 735ms/step\n",
      "1/1 [==============================] - 1s 796ms/step\n",
      "1/1 [==============================] - 1s 780ms/step\n",
      "1/1 [==============================] - 1s 684ms/step\n",
      "1/1 [==============================] - 1s 755ms/step\n",
      "1/1 [==============================] - 1s 800ms/step\n",
      "1/1 [==============================] - 1s 779ms/step\n",
      "1/1 [==============================] - 1s 741ms/step\n",
      "1/1 [==============================] - 1s 769ms/step\n",
      "1/1 [==============================] - 1s 737ms/step\n",
      "1/1 [==============================] - 1s 792ms/step\n",
      "1/1 [==============================] - 1s 736ms/step\n",
      "1/1 [==============================] - 1s 817ms/step\n",
      "1/1 [==============================] - 1s 689ms/step\n",
      "1/1 [==============================] - 1s 755ms/step\n",
      "1/1 [==============================] - 1s 680ms/step\n",
      "1/1 [==============================] - 1s 759ms/step\n",
      "1/1 [==============================] - 1s 754ms/step\n",
      "1/1 [==============================] - 1s 848ms/step\n",
      "1/1 [==============================] - 1s 675ms/step\n",
      "1/1 [==============================] - 1s 771ms/step\n",
      "1/1 [==============================] - 1s 741ms/step\n",
      "1/1 [==============================] - 1s 770ms/step\n",
      "1/1 [==============================] - 1s 787ms/step\n",
      "1/1 [==============================] - 1s 710ms/step\n",
      "1/1 [==============================] - 1s 763ms/step\n",
      "1/1 [==============================] - 1s 780ms/step\n",
      "1/1 [==============================] - 1s 799ms/step\n",
      "1/1 [==============================] - 0s 449ms/step\n"
     ]
    },
    {
     "name": "stderr",
     "output_type": "stream",
     "text": [
      "D:\\Documents\\programme\\anaconda3\\envs\\NLP_TD4\\lib\\site-packages\\seqeval\\metrics\\sequence_labeling.py:171: UserWarning: person seems not to be NE tag.\n",
      "  warnings.warn('{} seems not to be NE tag.'.format(chunk))\n",
      "D:\\Documents\\programme\\anaconda3\\envs\\NLP_TD4\\lib\\site-packages\\seqeval\\metrics\\sequence_labeling.py:171: UserWarning: content seems not to be NE tag.\n",
      "  warnings.warn('{} seems not to be NE tag.'.format(chunk))\n"
     ]
    },
    {
     "name": "stdout",
     "output_type": "stream",
     "text": [
      "              precision    recall  f1-score   support\n",
      "\n",
      "       erson       0.81      0.94      0.87       478\n",
      "      ontent       0.49      0.52      0.51       149\n",
      "\n",
      "   micro avg       0.74      0.84      0.79       627\n",
      "   macro avg       0.65      0.73      0.69       627\n",
      "weighted avg       0.73      0.84      0.78       627\n"
     ]
    }
   ],
   "source": [
    "from seqeval.metrics import classification_report\n",
    "import numpy as np\n",
    "\n",
    "def align_predictions(predictions, label_ids):\n",
    "    preds = np.argmax(predictions, axis=2)\n",
    "\n",
    "    batch_size, seq_len = preds.shape\n",
    "\n",
    "    out_label_list = [[] for _ in range(batch_size)]\n",
    "    preds_list = [[] for _ in range(batch_size)]\n",
    "\n",
    "    for i in range(batch_size):\n",
    "        for j in range(seq_len):\n",
    "            if label_ids[i, j] != -100:\n",
    "                out_label_list[i].append(label_map_inv[label_ids[i][j]])\n",
    "                preds_list[i].append(label_map_inv[preds[i][j]])\n",
    "\n",
    "    return preds_list, out_label_list\n",
    "\n",
    "\n",
    "# Mettre à jour le label_map_inv pour inclure tous les labels nécessaires\n",
    "label_map_inv = {i: label for label, i in label_map.items()}\n",
    "label_map_inv[0] = \"O\"  # Ajouter une étiquette pour le label 0\n",
    "\n",
    "\n",
    "# Ensuite, réexécutez la partie de prédiction et de calcul des métriques\n",
    "predictions, true_labels = [], []\n",
    "for batch in test_dataset:\n",
    "    logits = model.predict(batch[0])['logits']\n",
    "    labels = batch[1].numpy()\n",
    "    preds, labels = align_predictions(logits, labels)\n",
    "    predictions.extend(preds)\n",
    "    true_labels.extend(labels)\n",
    "\n",
    "# Calculer les métriques\n",
    "print(classification_report(true_labels, predictions))\n",
    "\n"
   ],
   "metadata": {
    "collapsed": false,
    "ExecuteTime": {
     "end_time": "2024-01-11T14:02:36.468213600Z",
     "start_time": "2024-01-11T14:00:58.450387200Z"
    }
   },
   "id": "f81f79cfedd48d1c"
  },
  {
   "cell_type": "code",
   "execution_count": null,
   "outputs": [],
   "source": [],
   "metadata": {
    "collapsed": false,
    "ExecuteTime": {
     "start_time": "2024-01-11T13:58:28.390446600Z"
    }
   },
   "id": "9a93204c917669c6"
  },
  {
   "cell_type": "markdown",
   "source": [
    "# Predict"
   ],
   "metadata": {
    "collapsed": false
   },
   "id": "dad46d1b1347293f"
  },
  {
   "cell_type": "code",
   "execution_count": 11,
   "outputs": [],
   "source": [
    "def extract_entities(sentence, model, tokenizer, label_map_inv):\n",
    "    # Tokeniser la phrase\n",
    "    inputs = tokenizer.encode_plus(sentence, return_tensors='tf', max_length=128, pad_to_max_length=True)\n",
    "\n",
    "    # Obtenir les prédictions du modèle\n",
    "    predictions = model.predict({'input_ids': inputs['input_ids'], 'attention_mask': inputs['attention_mask']})[0]\n",
    "\n",
    "    # Obtenir les indices des labels prédits\n",
    "    predicted_label_indices = tf.argmax(predictions, axis=-1).numpy()[0]\n",
    "\n",
    "    # Extraire les labels et les tokens correspondants\n",
    "    tokens = tokenizer.convert_ids_to_tokens(inputs['input_ids'].numpy()[0])\n",
    "    labels = [label_map_inv.get(idx, \"O\") for idx in predicted_label_indices]\n",
    "\n",
    "    # Ignorer les tokens spéciaux et les paddings\n",
    "    tokens_labels = [(token, label) for token, label in zip(tokens, labels) if token not in [\"[CLS]\", \"[SEP]\", \"[PAD]\"]]\n",
    "\n",
    "    # Extraire les entités\n",
    "    entities = {\"person\": [], \"content\": []}\n",
    "    for token, label in tokens_labels:\n",
    "        if label == \"person\":\n",
    "            entities[\"person\"].append(token)\n",
    "        elif label == \"content\":\n",
    "            entities[\"content\"].append(token)\n",
    "\n",
    "    return entities\n"
   ],
   "metadata": {
    "collapsed": false,
    "ExecuteTime": {
     "end_time": "2024-01-11T14:07:17.653536800Z",
     "start_time": "2024-01-11T14:07:17.642733800Z"
    }
   },
   "id": "f49eed07aa5abf14"
  },
  {
   "cell_type": "code",
   "execution_count": 12,
   "outputs": [
    {
     "name": "stderr",
     "output_type": "stream",
     "text": [
      "Truncation was not explicitly activated but `max_length` is provided a specific value, please use `truncation=True` to explicitly truncate examples to max length. Defaulting to 'longest_first' truncation strategy. If you encode pairs of sequences (GLUE-style) with the tokenizer you can select this strategy more precisely by providing a specific strategy to `truncation`.\n",
      "D:\\Documents\\programme\\anaconda3\\envs\\NLP_TD4\\lib\\site-packages\\transformers\\tokenization_utils_base.py:2418: FutureWarning: The `pad_to_max_length` argument is deprecated and will be removed in a future version, use `padding=True` or `padding='longest'` to pad to the longest sequence in the batch, or use `padding='max_length'` to pad to a max length. In this case, you can give a specific length with `max_length` (e.g. `max_length=45`) or leave max_length to None to pad to the maximal input size of the model (e.g. 512 for Bert).\n",
      "  warnings.warn(\n"
     ]
    },
    {
     "name": "stdout",
     "output_type": "stream",
     "text": [
      "1/1 [==============================] - 0s 181ms/step\n",
      "{'job': 'send_message', 'receiver': 'john', 'content': 'him about the meeting tomorrow'}\n"
     ]
    }
   ],
   "source": [
    "# Exemple de phrase\n",
    "test_sentence = \"Send a message to John telling him about the meeting tomorrow.\"\n",
    "\n",
    "# Extraire les entités\n",
    "extracted_entities = extract_entities(test_sentence, model, tokenizer, label_map_inv)\n",
    "\n",
    "# Construire le résultat final\n",
    "result = {\n",
    "    \"job\": \"send_message\",\n",
    "    \"receiver\": \" \".join(extracted_entities[\"person\"]),\n",
    "    \"content\": \" \".join(extracted_entities[\"content\"]),\n",
    "}\n",
    "\n",
    "print(result)\n"
   ],
   "metadata": {
    "collapsed": false,
    "ExecuteTime": {
     "end_time": "2024-01-11T14:07:20.319033600Z",
     "start_time": "2024-01-11T14:07:19.983565Z"
    }
   },
   "id": "e9b11419bf0febb5"
  },
  {
   "cell_type": "code",
   "execution_count": null,
   "outputs": [],
   "source": [],
   "metadata": {
    "collapsed": false
   },
   "id": "2bf92c6c609a2f9f"
  },
  {
   "cell_type": "markdown",
   "source": [
    "### API"
   ],
   "metadata": {
    "collapsed": false
   },
   "id": "40fd705aeafa387b"
  },
  {
   "cell_type": "code",
   "execution_count": null,
   "outputs": [],
   "source": [
    "from fastapi import FastAPI\n",
    "from pydantic import BaseModel\n",
    "import nest_asyncio\n",
    "from threading import Thread\n",
    "\n",
    "# Nécessaire pour exécuter un serveur async dans un notebook\n",
    "nest_asyncio.apply()\n",
    "\n",
    "app = FastAPI()\n",
    "\n",
    "class Sentence(BaseModel):\n",
    "    test_sentence: str\n",
    "\n",
    "@app.post(\"/extract_entities/\")\n",
    "async def extract_entities_api(sentence: Sentence):\n",
    "    extracted_entities = extract_entities(sentence.test_sentence, model, tokenizer, label_map_inv)\n",
    "    result = {\n",
    "        \"job\": \"send_message\",\n",
    "        \"receiver\": \" \".join(extracted_entities[\"person\"]),\n",
    "        \"content\": \" \".join(extracted_entities[\"content\"]),\n",
    "    }\n",
    "    return result\n",
    "\n",
    "\n",
    "# Fonction pour exécuter le serveur Uvicorn dans un thread à part\n",
    "def run_api():\n",
    "    import uvicorn\n",
    "    uvicorn.run(app, host=\"0.0.0.0\", port=8000, log_level=\"info\")"
   ],
   "metadata": {
    "collapsed": false
   },
   "id": "f2048b05620f7e76"
  },
  {
   "cell_type": "code",
   "execution_count": null,
   "outputs": [],
   "source": [
    "# Démarrer le serveur dans un thread à part pour ne pas bloquer le notebook\n",
    "thread = Thread(target=run_api)\n",
    "thread.start()\n",
    "\n",
    "#pour test http://localhost:8000/docs"
   ],
   "metadata": {
    "collapsed": false
   },
   "id": "f9aa80a1131247af"
  }
 ],
 "metadata": {
  "kernelspec": {
   "display_name": "Python 3",
   "language": "python",
   "name": "python3"
  },
  "language_info": {
   "codemirror_mode": {
    "name": "ipython",
    "version": 2
   },
   "file_extension": ".py",
   "mimetype": "text/x-python",
   "name": "python",
   "nbconvert_exporter": "python",
   "pygments_lexer": "ipython2",
   "version": "2.7.6"
  }
 },
 "nbformat": 4,
 "nbformat_minor": 5
}
